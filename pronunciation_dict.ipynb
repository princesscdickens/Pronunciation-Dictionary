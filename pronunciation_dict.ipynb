{
 "cells": [
  {
   "cell_type": "markdown",
   "metadata": {},
   "source": [
    "Princess Dickens\n",
    "\n",
    "# Working with a Pronunciation Dictionary"
   ]
  },
  {
   "cell_type": "markdown",
   "metadata": {},
   "source": [
    "Read in the file into a list of lines."
   ]
  },
  {
   "cell_type": "code",
   "execution_count": 1,
   "metadata": {},
   "outputs": [],
   "source": [
    "lines = [line.strip() for line in open('newdic-ipa.txt')]"
   ]
  },
  {
   "cell_type": "markdown",
   "metadata": {},
   "source": [
    "newdic-ipa.txt is a text document with 6 columns:\n",
    "\n",
    "IPA - stress_pattern - num_syllables - plain_orthography - unknown - POS\n",
    "    \n",
    "The possibilities for stress in disyllabic words are:\n",
    "\n",
    "1) primary, secondary\n",
    "2) secondary, primary\n",
    "3) primary, unstressed \n",
    "4) unstressed, primary\n",
    "    \n",
    "This program determines the most frequent stress pattern for:\n",
    "- disyllabic nouns (N)\n",
    "- disyllabic verbs (V)\n",
    "- disyllabic adjectives (A)"
   ]
  },
  {
   "cell_type": "code",
   "execution_count": 2,
   "metadata": {},
   "outputs": [
    {
     "name": "stdout",
     "output_type": "stream",
     "text": [
      "The most common stress pattern for disyllabic nouns is primary_unstressed\n",
      "The most common stress pattern for disyllabic verbs is unstressed_primary\n",
      "The most common stress pattern for disyllabic adjectives is primary_unstressed\n"
     ]
    }
   ],
   "source": [
    "nounList = []\n",
    "verbList = []\n",
    "adjList = []\n",
    "\n",
    "for line in lines:\n",
    "    columns = line.split('\\t')\n",
    "    if columns[2] == \"S2\":\n",
    "        if 'N' in columns[5]:\n",
    "            nounList.append(columns)\n",
    "        elif 'V' in columns[5]:\n",
    "            verbList.append(columns)\n",
    "        elif 'A' in columns[5]:\n",
    "            adjList.append(columns)\n",
    "\n",
    "# Let's start with nouns    \n",
    "        \n",
    "primary_secondary = 0\n",
    "secondary_primary = 0\n",
    "primary_unstressed = 0\n",
    "unstressed_primary = 0\n",
    "            \n",
    "for element in nounList:\n",
    "    if element[1] == \"'`\":\n",
    "        primary_secondary += 1\n",
    "    elif element[1] == \"`'\":\n",
    "        secondary_primary += 1\n",
    "    elif element[1] == \"'_\":\n",
    "        primary_unstressed += 1\n",
    "    elif element[1] == \"_'\":\n",
    "        unstressed_primary += 1\n",
    "\n",
    "maxCount = max(primary_secondary, secondary_primary, primary_unstressed, unstressed_primary)\n",
    "if maxCount == primary_secondary:\n",
    "    print(\"The most common stress pattern for disyllabic nouns is primary_secondary\")\n",
    "elif maxCount == secondary_primary:\n",
    "    print(\"The most common stress pattern for disyllabic nouns is secondary_primary\")\n",
    "elif maxCount == primary_unstressed:\n",
    "    print(\"The most common stress pattern for disyllabic nouns is primary_unstressed\")\n",
    "elif maxCount == unstressed_primary:\n",
    "    print(\"The most common stress pattern for disyllabic nouns is unstressed_primary\")\n",
    "        \n",
    "# Now for verbs\n",
    "\n",
    "primary_secondary = 0\n",
    "secondary_primary = 0\n",
    "primary_unstressed = 0\n",
    "unstressed_primary = 0\n",
    "            \n",
    "for element in verbList:\n",
    "    if element[1] == \"'`\":\n",
    "        primary_secondary += 1\n",
    "    elif element[1] == \"`'\":\n",
    "        secondary_primary += 1\n",
    "    elif element[1] == \"'_\":\n",
    "        primary_unstressed += 1\n",
    "    elif element[1] == \"_'\":\n",
    "        unstressed_primary += 1\n",
    "\n",
    "maxCount = max(primary_secondary, secondary_primary, primary_unstressed, unstressed_primary)\n",
    "if maxCount == primary_secondary:\n",
    "    print(\"The most common stress pattern for disyllabic verbs is primary_secondary\")\n",
    "elif maxCount == secondary_primary:\n",
    "    print(\"The most common stress pattern for disyllabic verbs is secondary_primary\")\n",
    "elif maxCount == primary_unstressed:\n",
    "    print(\"The most common stress pattern for disyllabic verbs is primary_unstressed\")\n",
    "elif maxCount == unstressed_primary:\n",
    "    print(\"The most common stress pattern for disyllabic verbs is unstressed_primary\")\n",
    "    \n",
    "# Now for adjectives\n",
    "\n",
    "primary_secondary = 0\n",
    "secondary_primary = 0\n",
    "primary_unstressed = 0\n",
    "unstressed_primary = 0\n",
    "            \n",
    "for element in adjList:\n",
    "    if element[1] == \"'`\":\n",
    "        primary_secondary += 1\n",
    "    elif element[1] == \"`'\":\n",
    "        secondary_primary += 1\n",
    "    elif element[1] == \"'_\":\n",
    "        primary_unstressed += 1\n",
    "    elif element[1] == \"_'\":\n",
    "        unstressed_primary += 1\n",
    "\n",
    "maxCount = max(primary_secondary, secondary_primary, primary_unstressed, unstressed_primary)\n",
    "if maxCount == primary_secondary:\n",
    "    print(\"The most common stress pattern for disyllabic adjectives is primary_secondary\")\n",
    "elif maxCount == secondary_primary:\n",
    "    print(\"The most common stress pattern for disyllabic adjectives is secondary_primary\")\n",
    "elif maxCount == primary_unstressed:\n",
    "    print(\"The most common stress pattern for disyllabic adjectives is primary_unstressed\")\n",
    "elif maxCount == unstressed_primary:\n",
    "    print(\"The most common stress pattern for disyllabic adjectives is unstressed_primary\")"
   ]
  },
  {
   "cell_type": "markdown",
   "metadata": {},
   "source": [
    "# Construct a dictionary that maps words to pronunciations\n",
    "\n",
    "pron['machine']\n",
    "\n",
    "məʃin\n",
    "\n",
    "Write a function that takes a string of words as arguments (space-separated), and returns the pronunciation:\n",
    "\n",
    "print(pronounce('machine learning is easy'))\n",
    "\n",
    "məʃin lɝnɪŋ ɪz izi"
   ]
  },
  {
   "cell_type": "code",
   "execution_count": 3,
   "metadata": {},
   "outputs": [
    {
     "name": "stdout",
     "output_type": "stream",
     "text": [
      "hɛloʊ  maɪ  neɪm  ɪz  pɹɪnsəs  "
     ]
    }
   ],
   "source": [
    "pronDict = {}\n",
    "\n",
    "for line in lines:\n",
    "    columns = line.split('\\t')\n",
    "    pronDict.update({columns[3]:columns[0]})\n",
    "\n",
    "# print(pronDict)\n",
    "    \n",
    "def transcribe(inputPhrase):\n",
    "    inputPhrase.lower()\n",
    "    for word in inputPhrase.split(' '):\n",
    "        if word in pronDict:\n",
    "            print(pronDict[word], ' ', end = '')\n",
    "        else:\n",
    "            print(\"__\", ' ', end = '') # If word doesn't exist, a blank line will be printed in its place\n",
    "\n",
    "transcribe(\"hello my name is princess\")"
   ]
  },
  {
   "cell_type": "code",
   "execution_count": null,
   "metadata": {},
   "outputs": [],
   "source": []
  }
 ],
 "metadata": {
  "kernelspec": {
   "display_name": "Python 3",
   "language": "python",
   "name": "python3"
  },
  "language_info": {
   "codemirror_mode": {
    "name": "ipython",
    "version": 3
   },
   "file_extension": ".py",
   "mimetype": "text/x-python",
   "name": "python",
   "nbconvert_exporter": "python",
   "pygments_lexer": "ipython3",
   "version": "3.7.3"
  }
 },
 "nbformat": 4,
 "nbformat_minor": 4
}
